{
  "nbformat": 4,
  "nbformat_minor": 0,
  "metadata": {
    "colab": {
      "name": "SAMPLE.ipynb",
      "provenance": [],
      "collapsed_sections": [],
      "toc_visible": true,
      "authorship_tag": "ABX9TyNXP7twO13QWzUxWUp3/1Gv",
      "include_colab_link": true
    },
    "kernelspec": {
      "name": "python3",
      "display_name": "Python 3"
    }
  },
  "cells": [
    {
      "cell_type": "markdown",
      "metadata": {
        "id": "view-in-github",
        "colab_type": "text"
      },
      "source": [
        "<a href=\"https://colab.research.google.com/github/Srinivas-Undapalli/PreSumm/blob/master/PreSumm_colab.ipynb\" target=\"_parent\"><img src=\"https://colab.research.google.com/assets/colab-badge.svg\" alt=\"Open In Colab\"/></a>"
      ]
    },
    {
      "cell_type": "code",
      "metadata": {
        "id": "3XIbL4byFx9I",
        "colab_type": "code",
        "colab": {
          "base_uri": "https://localhost:8080/",
          "height": 34
        },
        "outputId": "f8c4ebf1-808b-437b-b8d3-2b3b04910cd8"
      },
      "source": [
        "pwd"
      ],
      "execution_count": 1,
      "outputs": [
        {
          "output_type": "execute_result",
          "data": {
            "text/plain": [
              "'/content'"
            ]
          },
          "metadata": {
            "tags": []
          },
          "execution_count": 1
        }
      ]
    },
    {
      "cell_type": "code",
      "metadata": {
        "id": "TZKm0b3WGm6k",
        "colab_type": "code",
        "colab": {
          "base_uri": "https://localhost:8080/",
          "height": 34
        },
        "outputId": "62ad7159-d335-490e-d125-1420965f7e1c"
      },
      "source": [
        "pwd"
      ],
      "execution_count": 2,
      "outputs": [
        {
          "output_type": "execute_result",
          "data": {
            "text/plain": [
              "'/content'"
            ]
          },
          "metadata": {
            "tags": []
          },
          "execution_count": 2
        }
      ]
    },
    {
      "cell_type": "code",
      "metadata": {
        "id": "IX1fsSokGp3h",
        "colab_type": "code",
        "colab": {
          "base_uri": "https://localhost:8080/",
          "height": 136
        },
        "outputId": "9bd41c20-6292-4297-ce12-fb95cf0963bc"
      },
      "source": [
        "!git clone https://github.com/Srinivas-Undapalli/PreSumm.git"
      ],
      "execution_count": 4,
      "outputs": [
        {
          "output_type": "stream",
          "text": [
            "Cloning into 'PreSumm'...\n",
            "remote: Enumerating objects: 3, done.\u001b[K\n",
            "remote: Counting objects: 100% (3/3), done.\u001b[K\n",
            "remote: Compressing objects: 100% (3/3), done.\u001b[K\n",
            "remote: Total 403 (delta 0), reused 0 (delta 0), pack-reused 400\u001b[K\n",
            "Receiving objects: 100% (403/403), 13.00 MiB | 6.19 MiB/s, done.\n",
            "Resolving deltas: 100% (268/268), done.\n"
          ],
          "name": "stdout"
        }
      ]
    },
    {
      "cell_type": "code",
      "metadata": {
        "id": "ZF1bfHTCPoJk",
        "colab_type": "code",
        "colab": {
          "base_uri": "https://localhost:8080/",
          "height": 34
        },
        "outputId": "88600adc-1038-4293-b606-ea5e55f57c52"
      },
      "source": [
        "cd .."
      ],
      "execution_count": 13,
      "outputs": [
        {
          "output_type": "stream",
          "text": [
            "/content/PreSumm\n"
          ],
          "name": "stdout"
        }
      ]
    },
    {
      "cell_type": "code",
      "metadata": {
        "id": "IE2llYahKX7Y",
        "colab_type": "code",
        "colab": {
          "base_uri": "https://localhost:8080/",
          "height": 68
        },
        "outputId": "f10945ea-ba54-4d7e-8bf4-73225719cfab"
      },
      "source": [
        "ls"
      ],
      "execution_count": 11,
      "outputs": [
        {
          "output_type": "stream",
          "text": [
            "cal_rouge.py    \u001b[0m\u001b[01;34mothers\u001b[0m/        preprocess.py         train.py\n",
            "distributed.py  post_stats.py  train_abstractive.py  \u001b[01;34mtranslate\u001b[0m/\n",
            "\u001b[01;34mmodels\u001b[0m/         \u001b[01;34mprepro\u001b[0m/        train_extractive.py\n"
          ],
          "name": "stdout"
        }
      ]
    },
    {
      "cell_type": "code",
      "metadata": {
        "id": "KVu-BdbkPyr_",
        "colab_type": "code",
        "colab": {
          "base_uri": "https://localhost:8080/",
          "height": 1000
        },
        "outputId": "1951a229-fcde-4271-cd78-581e2c47f0f9"
      },
      "source": [
        "cat ./src/train.py"
      ],
      "execution_count": 14,
      "outputs": [
        {
          "output_type": "stream",
          "text": [
            "#!/usr/bin/env python\n",
            "\"\"\"\n",
            "    Main training workflow\n",
            "\"\"\"\n",
            "from __future__ import division\n",
            "\n",
            "import argparse\n",
            "import os\n",
            "from others.logging import init_logger\n",
            "from train_abstractive import validate_abs, train_abs, baseline, test_abs, test_text_abs\n",
            "from train_extractive import train_ext, validate_ext, test_ext\n",
            "\n",
            "model_flags = ['hidden_size', 'ff_size', 'heads', 'emb_size', 'enc_layers', 'enc_hidden_size', 'enc_ff_size',\n",
            "               'dec_layers', 'dec_hidden_size', 'dec_ff_size', 'encoder', 'ff_actv', 'use_interval']\n",
            "\n",
            "\n",
            "def str2bool(v):\n",
            "    if v.lower() in ('yes', 'true', 't', 'y', '1'):\n",
            "        return True\n",
            "    elif v.lower() in ('no', 'false', 'f', 'n', '0'):\n",
            "        return False\n",
            "    else:\n",
            "        raise argparse.ArgumentTypeError('Boolean value expected.')\n",
            "\n",
            "\n",
            "\n",
            "\n",
            "if __name__ == '__main__':\n",
            "    parser = argparse.ArgumentParser()\n",
            "    parser.add_argument(\"-task\", default='ext', type=str, choices=['ext', 'abs'])\n",
            "    parser.add_argument(\"-encoder\", default='bert', type=str, choices=['bert', 'baseline'])\n",
            "    parser.add_argument(\"-mode\", default='train', type=str, choices=['train', 'validate', 'test'])\n",
            "    parser.add_argument(\"-bert_data_path\", default='../bert_data_new/cnndm')\n",
            "    parser.add_argument(\"-model_path\", default='../models/')\n",
            "    parser.add_argument(\"-result_path\", default='../results/cnndm')\n",
            "    parser.add_argument(\"-temp_dir\", default='../temp')\n",
            "\n",
            "    parser.add_argument(\"-batch_size\", default=140, type=int)\n",
            "    parser.add_argument(\"-test_batch_size\", default=200, type=int)\n",
            "\n",
            "    parser.add_argument(\"-max_pos\", default=512, type=int)\n",
            "    parser.add_argument(\"-use_interval\", type=str2bool, nargs='?',const=True,default=True)\n",
            "    parser.add_argument(\"-large\", type=str2bool, nargs='?',const=True,default=False)\n",
            "    parser.add_argument(\"-load_from_extractive\", default='', type=str)\n",
            "\n",
            "    parser.add_argument(\"-sep_optim\", type=str2bool, nargs='?',const=True,default=False)\n",
            "    parser.add_argument(\"-lr_bert\", default=2e-3, type=float)\n",
            "    parser.add_argument(\"-lr_dec\", default=2e-3, type=float)\n",
            "    parser.add_argument(\"-use_bert_emb\", type=str2bool, nargs='?',const=True,default=False)\n",
            "\n",
            "    parser.add_argument(\"-share_emb\", type=str2bool, nargs='?', const=True, default=False)\n",
            "    parser.add_argument(\"-finetune_bert\", type=str2bool, nargs='?', const=True, default=True)\n",
            "    parser.add_argument(\"-dec_dropout\", default=0.2, type=float)\n",
            "    parser.add_argument(\"-dec_layers\", default=6, type=int)\n",
            "    parser.add_argument(\"-dec_hidden_size\", default=768, type=int)\n",
            "    parser.add_argument(\"-dec_heads\", default=8, type=int)\n",
            "    parser.add_argument(\"-dec_ff_size\", default=2048, type=int)\n",
            "    parser.add_argument(\"-enc_hidden_size\", default=512, type=int)\n",
            "    parser.add_argument(\"-enc_ff_size\", default=512, type=int)\n",
            "    parser.add_argument(\"-enc_dropout\", default=0.2, type=float)\n",
            "    parser.add_argument(\"-enc_layers\", default=6, type=int)\n",
            "\n",
            "    # params for EXT\n",
            "    parser.add_argument(\"-ext_dropout\", default=0.2, type=float)\n",
            "    parser.add_argument(\"-ext_layers\", default=2, type=int)\n",
            "    parser.add_argument(\"-ext_hidden_size\", default=768, type=int)\n",
            "    parser.add_argument(\"-ext_heads\", default=8, type=int)\n",
            "    parser.add_argument(\"-ext_ff_size\", default=2048, type=int)\n",
            "\n",
            "    parser.add_argument(\"-label_smoothing\", default=0.1, type=float)\n",
            "    parser.add_argument(\"-generator_shard_size\", default=32, type=int)\n",
            "    parser.add_argument(\"-alpha\",  default=0.6, type=float)\n",
            "    parser.add_argument(\"-beam_size\", default=5, type=int)\n",
            "    parser.add_argument(\"-min_length\", default=15, type=int)\n",
            "    parser.add_argument(\"-max_length\", default=150, type=int)\n",
            "    parser.add_argument(\"-max_tgt_len\", default=140, type=int)\n",
            "\n",
            "\n",
            "\n",
            "    parser.add_argument(\"-param_init\", default=0, type=float)\n",
            "    parser.add_argument(\"-param_init_glorot\", type=str2bool, nargs='?',const=True,default=True)\n",
            "    parser.add_argument(\"-optim\", default='adam', type=str)\n",
            "    parser.add_argument(\"-lr\", default=1, type=float)\n",
            "    parser.add_argument(\"-beta1\", default= 0.9, type=float)\n",
            "    parser.add_argument(\"-beta2\", default=0.999, type=float)\n",
            "    parser.add_argument(\"-warmup_steps\", default=8000, type=int)\n",
            "    parser.add_argument(\"-warmup_steps_bert\", default=8000, type=int)\n",
            "    parser.add_argument(\"-warmup_steps_dec\", default=8000, type=int)\n",
            "    parser.add_argument(\"-max_grad_norm\", default=0, type=float)\n",
            "\n",
            "    parser.add_argument(\"-save_checkpoint_steps\", default=5, type=int)\n",
            "    parser.add_argument(\"-accum_count\", default=1, type=int)\n",
            "    parser.add_argument(\"-report_every\", default=1, type=int)\n",
            "    parser.add_argument(\"-train_steps\", default=1000, type=int)\n",
            "    parser.add_argument(\"-recall_eval\", type=str2bool, nargs='?',const=True,default=False)\n",
            "\n",
            "\n",
            "    parser.add_argument('-visible_gpus', default='-1', type=str)\n",
            "    parser.add_argument('-gpu_ranks', default='0', type=str)\n",
            "    parser.add_argument('-log_file', default='../logs/cnndm.log')\n",
            "    parser.add_argument('-seed', default=666, type=int)\n",
            "\n",
            "    parser.add_argument(\"-test_all\", type=str2bool, nargs='?',const=True,default=False)\n",
            "    parser.add_argument(\"-test_from\", default='')\n",
            "    parser.add_argument(\"-test_start_from\", default=-1, type=int)\n",
            "\n",
            "    parser.add_argument(\"-train_from\", default='')\n",
            "    parser.add_argument(\"-report_rouge\", type=str2bool, nargs='?',const=True,default=True)\n",
            "    parser.add_argument(\"-block_trigram\", type=str2bool, nargs='?', const=True, default=True)\n",
            "\n",
            "    args = parser.parse_args()\n",
            "    args.gpu_ranks = [int(i) for i in range(len(args.visible_gpus.split(',')))]\n",
            "    args.world_size = len(args.gpu_ranks)\n",
            "    os.environ[\"CUDA_VISIBLE_DEVICES\"] = args.visible_gpus\n",
            "\n",
            "    init_logger(args.log_file)\n",
            "    device = \"cpu\" if args.visible_gpus == '-1' else \"cuda\"\n",
            "    device_id = 0 if device == \"cuda\" else -1\n",
            "\n",
            "    if (args.task == 'abs'):\n",
            "        if (args.mode == 'train'):\n",
            "            train_abs(args, device_id)\n",
            "        elif (args.mode == 'validate'):\n",
            "            validate_abs(args, device_id)\n",
            "        elif (args.mode == 'lead'):\n",
            "            baseline(args, cal_lead=True)\n",
            "        elif (args.mode == 'oracle'):\n",
            "            baseline(args, cal_oracle=True)\n",
            "        if (args.mode == 'test'):\n",
            "            cp = args.test_from\n",
            "            try:\n",
            "                step = int(cp.split('.')[-2].split('_')[-1])\n",
            "            except:\n",
            "                step = 0\n",
            "            test_abs(args, device_id, cp, step)\n",
            "        elif (args.mode == 'test_text'):\n",
            "            cp = args.test_from\n",
            "            try:\n",
            "                step = int(cp.split('.')[-2].split('_')[-1])\n",
            "            except:\n",
            "                step = 0\n",
            "                test_text_abs(args, device_id, cp, step)\n",
            "\n",
            "    elif (args.task == 'ext'):\n",
            "        if (args.mode == 'train'):\n",
            "            train_ext(args, device_id)\n",
            "        elif (args.mode == 'validate'):\n",
            "            validate_ext(args, device_id)\n",
            "        if (args.mode == 'test'):\n",
            "            cp = args.test_from\n",
            "            try:\n",
            "                step = int(cp.split('.')[-2].split('_')[-1])\n",
            "            except:\n",
            "                step = 0\n",
            "            test_ext(args, device_id, cp, step)\n",
            "        elif (args.mode == 'test_text'):\n",
            "            cp = args.test_from\n",
            "            try:\n",
            "                step = int(cp.split('.')[-2].split('_')[-1])\n",
            "            except:\n",
            "                step = 0\n",
            "                test_text_abs(args, device_id, cp, step)\n"
          ],
          "name": "stdout"
        }
      ]
    }
  ]
}